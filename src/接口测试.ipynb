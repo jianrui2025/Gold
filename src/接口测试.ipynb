{
 "cells": [
  {
   "cell_type": "code",
   "execution_count": 4,
   "metadata": {},
   "outputs": [
    {
     "name": "stdout",
     "output_type": "stream",
     "text": [
      "Forbidden\n"
     ]
    }
   ],
   "source": [
    "import requests\n",
    "url = \"http://hq.sinajs.cn/list=sh518880\"\n",
    "response = requests.get(url, headers={\n",
    "                'Referer': 'http://finance.sina.com.cn',\n",
    "                'User-Agent': 'Mozilla/5.0 (Windows NT 10.0; Win64; x64) AppleWebKit/537.36 (KHTML, like Gecko) Chrome/92.0.4515.159 Safari/537.36'\n",
    "            })\n",
    "response.encoding = 'gbk'\n",
    "data_str = response.text\n",
    "print(data_str)"
   ]
  },
  {
   "cell_type": "code",
   "execution_count": 6,
   "metadata": {},
   "outputs": [
    {
     "name": "stdout",
     "output_type": "stream",
     "text": [
      "{'error_description': '遇到错误，请刷新页面或者重新登录帐号后再试', 'error_uri': '/v4/stock/quote.json', 'error_code': '400016'}\n"
     ]
    }
   ],
   "source": [
    "import requests\n",
    "q = 'sh518880'\n",
    "headers = {\n",
    "            'Host': 'xueqiu.com',\n",
    "            'User-Agent': 'Mozilla/5.0 (Macintosh; Intel Mac OS X 10_11_6) AppleWebKit/537.36 (KHTML, like Gecko) Chrome/53.0.2785.89 Safari/537.36',\n",
    "        }\n",
    "url = 'https://xueqiu.com/v4/stock/quote.json?code={}'.format(q)\n",
    "cookies = {\n",
    "            'xq_a_token': \"73f49b15b69bab0080f85292b88a61424368c90b\",\n",
    "        }\n",
    "r = requests.get(url, headers=headers, cookies=cookies)\n",
    "res = r.json()\n",
    "print(res)\n",
    "# data = res[q]"
   ]
  },
  {
   "cell_type": "code",
   "execution_count": null,
   "metadata": {},
   "outputs": [],
   "source": [
    "import tushare as ts\n",
    "pro = ts.pro_api('08aaec36d1fad0154592971c8fb64a472b8f3fe954dc33c8d0e87447')\n",
    "df = pro.trade_cal(exchange='', start_date='20180901', end_date='20181001', fields='exchange,cal_date,is_open,pretrade_date', is_open='0')"
   ]
  },
  {
   "cell_type": "code",
   "execution_count": 12,
   "metadata": {},
   "outputs": [
    {
     "name": "stdout",
     "output_type": "stream",
     "text": [
      "  fund_code           trade_time  trade_date   open   high    low  price  \\\n",
      "0    518880  2025-06-13 13:23:00  2025-06-13  7.616  7.653  7.570  7.588   \n",
      "\n",
      "      volume          amount change change_pct  \n",
      "0  888062400  6764698800.000   None       None  \n",
      "  fund_code           trade_time  trade_date   open   high    low  price  \\\n",
      "0    159934  2025-06-13 13:23:00  2025-06-13  7.540  7.579  7.493  7.510   \n",
      "\n",
      "      volume          amount change change_pct  \n",
      "0  233189350  1758230900.000   None       None  \n",
      "  fund_code           trade_time  trade_date   open   high    low  price  \\\n",
      "0    159937  2025-06-13 13:23:00  2025-06-13  7.599  7.639  7.557  7.572   \n",
      "\n",
      "      volume          amount change change_pct  \n",
      "0  165764400  1260292650.000   None       None  \n",
      "  fund_code           trade_time  trade_date   open   high    low  price  \\\n",
      "0    518800  2025-06-13 13:23:00  2025-06-13  7.520  7.559  7.478  7.498   \n",
      "\n",
      "     volume         amount change change_pct  \n",
      "0  57913300  435783020.000   None       None  \n",
      "  fund_code           trade_time  trade_date   open   high    low  price  \\\n",
      "0    518660  2025-06-13 13:23:00  2025-06-13  7.598  7.642  7.558  7.580   \n",
      "\n",
      "     volume         amount change change_pct  \n",
      "0  39293900  298786760.000   None       None  \n",
      "0\n"
     ]
    }
   ],
   "source": [
    "import adata\n",
    "from datetime import datetime\n",
    "start = datetime.now()\n",
    "df = adata.fund.market.get_market_etf_current(fund_code='518880')\n",
    "print(df)\n",
    "df = adata.fund.market.get_market_etf_current(fund_code='159934')\n",
    "print(df)\n",
    "df = adata.fund.market.get_market_etf_current(fund_code='159937')\n",
    "print(df)\n",
    "df = adata.fund.market.get_market_etf_current(fund_code='518800')\n",
    "print(df)\n",
    "df = adata.fund.market.get_market_etf_current(fund_code='518660')\n",
    "print(df)\n",
    "end = datetime.now()\n",
    "tmp = end-start\n",
    "print(tmp.seconds)"
   ]
  },
  {
   "cell_type": "code",
   "execution_count": 1,
   "metadata": {},
   "outputs": [
    {
     "name": "stdout",
     "output_type": "stream",
     "text": [
      "  fund_code           trade_time  trade_date   open   high    low  price  \\\n",
      "0    518880  2025-06-13 00:28:00  2025-06-13  7.616  7.653  7.570  7.588   \n",
      "\n",
      "      volume          amount change change_pct  \n",
      "0  888062400  6764698800.000   None       None  \n"
     ]
    }
   ],
   "source": [
    "import adata\n",
    "df = adata.fund.market.get_market_etf_current(fund_code='518880')\n",
    "print(df)"
   ]
  },
  {
   "cell_type": "code",
   "execution_count": 1,
   "metadata": {},
   "outputs": [],
   "source": [
    "import tushare as ts"
   ]
  },
  {
   "cell_type": "code",
   "execution_count": 2,
   "metadata": {},
   "outputs": [],
   "source": [
    "df = ts.realtime_quote(ts_code=\"518880.SH\", src='dc')"
   ]
  },
  {
   "cell_type": "code",
   "execution_count": 3,
   "metadata": {},
   "outputs": [
    {
     "data": {
      "text/plain": [
       "1"
      ]
     },
     "execution_count": 3,
     "metadata": {},
     "output_type": "execute_result"
    }
   ],
   "source": [
    "len(df)"
   ]
  },
  {
   "cell_type": "code",
   "execution_count": 4,
   "metadata": {},
   "outputs": [
    {
     "data": {
      "text/plain": [
       "[{'NAME': '黄金ETF',\n",
       "  'TS_CODE': '518880.SH',\n",
       "  'DATE': '20250716',\n",
       "  'TIME': ' 10:55:26',\n",
       "  'OPEN': 73.78,\n",
       "  'PRE_CLOSE': 74.36,\n",
       "  'PRICE': 73.79,\n",
       "  'HIGH': 73.95,\n",
       "  'LOW': 73.94,\n",
       "  'BID': 73.78,\n",
       "  'ASK': 73.79,\n",
       "  'VOLUME': 1273599,\n",
       "  'AMOUNT': 940776889.0,\n",
       "  'B1_V': 141,\n",
       "  'B1_P': 73.78,\n",
       "  'B2_V': 12461,\n",
       "  'B2_P': 73.77,\n",
       "  'B3_V': 11882,\n",
       "  'B3_P': 73.76,\n",
       "  'B4_V': 10061,\n",
       "  'B4_P': 73.75,\n",
       "  'B5_V': 2871,\n",
       "  'B5_P': 73.74,\n",
       "  'A1_V': 4168,\n",
       "  'A1_P': 73.79,\n",
       "  'A2_V': 8511,\n",
       "  'A2_P': 73.8,\n",
       "  'A3_V': 8081,\n",
       "  'A3_P': 73.81,\n",
       "  'A4_V': 1910,\n",
       "  'A4_P': 73.82,\n",
       "  'A5_V': 1663,\n",
       "  'A5_P': 73.83}]"
      ]
     },
     "execution_count": 4,
     "metadata": {},
     "output_type": "execute_result"
    }
   ],
   "source": [
    "df.to_dict(orient=\"records\")"
   ]
  },
  {
   "cell_type": "code",
   "execution_count": null,
   "metadata": {},
   "outputs": [
    {
     "ename": "",
     "evalue": "",
     "output_type": "error",
     "traceback": [
      "\u001b[1;31mRunning cells with 'base' requires the ipykernel package.\n",
      "\u001b[1;31mRun the following command to install 'ipykernel' into the Python environment. \n",
      "\u001b[1;31mCommand: 'conda install -n base ipykernel --update-deps --force-reinstall'"
     ]
    }
   ],
   "source": [
    "import tushare as ts\n",
    "ts.set_token(\"08aaec36d1fad0154592971c8fb64a472b8f3fe954dc33c8d0e87447\")\n",
    "from rtq import  (realtime_quote, realtime_list)\n",
    "from histroy_divide import (realtime_tick)\n",
    "ts.realtime_quote = realtime_quote\n",
    "ts.realtime_list = realtime_list\n",
    "ts.realtime_tick = realtime_tick"
   ]
  },
  {
   "cell_type": "code",
   "execution_count": 1,
   "metadata": {},
   "outputs": [],
   "source": [
    "import json"
   ]
  },
  {
   "cell_type": "code",
   "execution_count": null,
   "metadata": {},
   "outputs": [],
   "source": []
  }
 ],
 "metadata": {
  "kernelspec": {
   "display_name": "akshare",
   "language": "python",
   "name": "python3"
  },
  "language_info": {
   "codemirror_mode": {
    "name": "ipython",
    "version": 3
   },
   "file_extension": ".py",
   "mimetype": "text/x-python",
   "name": "python",
   "nbconvert_exporter": "python",
   "pygments_lexer": "ipython3",
   "version": "3.13.5"
  }
 },
 "nbformat": 4,
 "nbformat_minor": 2
}
