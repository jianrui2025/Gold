{
 "cells": [
  {
   "cell_type": "code",
   "execution_count": 42,
   "metadata": {},
   "outputs": [],
   "source": [
    "import json\n",
    "import pandas as pd\n",
    "from datetime import datetime\n",
    "from DatabaseOperation import DatabaseOperation\n",
    "from torch.utils.tensorboard import SummaryWriter\n",
    "import time\n",
    "import os\n",
    "import shutil"
   ]
  },
  {
   "cell_type": "code",
   "execution_count": 43,
   "metadata": {},
   "outputs": [],
   "source": [
    "log_dir = \"/home/jianrui/Gold/TensorboardLog\"\n",
    "writer = SummaryWriter(log_dir=log_dir)"
   ]
  },
  {
   "cell_type": "code",
   "execution_count": 44,
   "metadata": {},
   "outputs": [],
   "source": [
    "df = pd.read_excel(\"/home/jianrui/Gold/excel/20250708数据.xlsx\")\n",
    "df = df.to_dict(orient=\"records\")"
   ]
  },
  {
   "cell_type": "code",
   "execution_count": 45,
   "metadata": {},
   "outputs": [
    {
     "data": {
      "text/plain": [
       "{'index': 1,\n",
       " 'timestamp': 1751938202,\n",
       " 'fund_code_x': 518880,\n",
       " 'trade_time': '2025-07-08 09:30:02',\n",
       " 'open': 73.96,\n",
       " 'high': 74.01,\n",
       " 'low': 73.97,\n",
       " 'price': 74.0,\n",
       " 'name': '黄金ETF',\n",
       " 'date': 20250708,\n",
       " 'time': ' 09:30:02',\n",
       " 'pre_close': 73.55,\n",
       " 'b1_v': 4186,\n",
       " 'b2_v': 6322,\n",
       " 'b3_v': 3032,\n",
       " 'b4_v': 639,\n",
       " 'b5_v': 9627,\n",
       " 'b1_p': 74.0,\n",
       " 'ask': 74.02,\n",
       " 'volume': 33107,\n",
       " 'amount': 24491244,\n",
       " 'a1_v': 2035,\n",
       " 'a2_v': 3097,\n",
       " 'a3_v': 2816,\n",
       " 'a4_v': 624,\n",
       " 'a5_v': 64,\n",
       " 'a1_p': 74.02,\n",
       " 'a2_p': 74.03,\n",
       " 'a3_p': 74.04,\n",
       " 'a4_p': 74.05,\n",
       " 'a5_p': 74.06,\n",
       " 'bid': 74.0,\n",
       " 'b2_p': 73.99,\n",
       " 'b3_p': 73.98,\n",
       " 'b4_p': 73.97,\n",
       " 'b5_p': 73.96,\n",
       " 'outside_pan': 27091,\n",
       " 'inside_pan': 6016,\n",
       " 'fund_code_y': 518880,\n",
       " 'fluctuation_1min': 0.0,\n",
       " 'average_1min': 74.0,\n",
       " 'variance_1min': 0.0,\n",
       " 'average_2min': 74.0,\n",
       " 'variance_2min': 0.0,\n",
       " 'fluctuation_2min': 0.0,\n",
       " 'average_4min': 74.0,\n",
       " 'variance_4min': 0.0,\n",
       " 'fluctuation_4min': 0.0,\n",
       " 'average_8min': 74.0,\n",
       " 'variance_8min': 0.0,\n",
       " 'fluctuation_8min': 0.0,\n",
       " 'average_16min': 74.0,\n",
       " 'variance_16min': 0.0,\n",
       " 'fluctuation_16min': 0.0,\n",
       " 'average_32min': 74.0,\n",
       " 'variance_32min': 0.0,\n",
       " 'fluctuation_32min': 0.0,\n",
       " 'insidePan_1min': 1478,\n",
       " 'insidePan_2min': 1478,\n",
       " 'insidePan_4min': 1478,\n",
       " 'insidePan_8min': 1478,\n",
       " 'insidePan_16min': 1478,\n",
       " 'insidePan_32min': 1478,\n",
       " 'outsidePan_1min': 5618,\n",
       " 'outsidePan_2min': 5618,\n",
       " 'outsidePan_4min': 5618,\n",
       " 'outsidePan_8min': 5618,\n",
       " 'outsidePan_16min': 5618,\n",
       " 'outsidePan_32min': 5618}"
      ]
     },
     "execution_count": 45,
     "metadata": {},
     "output_type": "execute_result"
    }
   ],
   "source": [
    "df[1]"
   ]
  },
  {
   "cell_type": "code",
   "execution_count": 46,
   "metadata": {},
   "outputs": [
    {
     "name": "stdout",
     "output_type": "stream",
     "text": [
      "/home/jianrui/Gold/TensorboardLog/trade_insidePan_1min\n",
      "/home/jianrui/Gold/TensorboardLog/events.out.tfevents.1751982108.iZbp11fsv0nimfq478rrcqZ.13620.11\n",
      "/home/jianrui/Gold/TensorboardLog/events.out.tfevents.1751982108.iZbp11fsv0nimfq478rrcqZ.13620.11\n",
      "/home/jianrui/Gold/TensorboardLog/events.out.tfevents.1751979948.iZbp11fsv0nimfq478rrcqZ.13620.0\n",
      "/home/jianrui/Gold/TensorboardLog/events.out.tfevents.1751979948.iZbp11fsv0nimfq478rrcqZ.13620.0\n",
      "/home/jianrui/Gold/TensorboardLog/trade_outsidePan_1min\n"
     ]
    }
   ],
   "source": [
    "def emptyTensorboard(log_dir):\n",
    "        for filename in os.listdir(log_dir):\n",
    "            file_path = os.path.join(log_dir, filename)\n",
    "            print(file_path)\n",
    "            if os.path.isfile(file_path):\n",
    "                print(file_path)\n",
    "                os.remove(file_path)\n",
    "            else:\n",
    "                shutil.rmtree(file_path)\n",
    "emptyTensorboard(log_dir)"
   ]
  },
  {
   "cell_type": "code",
   "execution_count": 47,
   "metadata": {},
   "outputs": [],
   "source": [
    "index = 1\n",
    "for i in df:\n",
    "    if (i[\"timestamp\"]-2)%60 == 0:\n",
    "        writer.add_scalar(tag=\"price\",scalar_value=i[\"price\"],global_step=index)\n",
    "        tag_scalar_dict = {\"insidePan_1min\":i[\"insidePan_1min\"],\"outsidePan_1min\":i[\"outsidePan_1min\"]}\n",
    "        writer.add_scalars(main_tag=\"trade\",\n",
    "                                        tag_scalar_dict=tag_scalar_dict,\n",
    "                                        global_step=index\n",
    "                )\n",
    "        index += 1\n",
    "        # print(i)\n",
    "writer.flush()"
   ]
  },
  {
   "cell_type": "code",
   "execution_count": 30,
   "metadata": {},
   "outputs": [
    {
     "data": {
      "text/plain": [
       "{'index': 38,\n",
       " 'timestamp': 1751938322,\n",
       " 'fund_code_x': 518880,\n",
       " 'trade_time': '2025-07-08 09:32:02',\n",
       " 'open': 73.96,\n",
       " 'high': 74.02,\n",
       " 'low': 73.97,\n",
       " 'price': 73.98,\n",
       " 'name': '黄金ETF',\n",
       " 'date': 20250708,\n",
       " 'time': ' 09:32:02',\n",
       " 'pre_close': 73.55,\n",
       " 'b1_v': 7446,\n",
       " 'b2_v': 4964,\n",
       " 'b3_v': 4915,\n",
       " 'b4_v': 2398,\n",
       " 'b5_v': 838,\n",
       " 'b1_p': 73.98,\n",
       " 'ask': 73.99,\n",
       " 'volume': 116073,\n",
       " 'amount': 85875849,\n",
       " 'a1_v': 5928,\n",
       " 'a2_v': 9683,\n",
       " 'a3_v': 3612,\n",
       " 'a4_v': 9736,\n",
       " 'a5_v': 561,\n",
       " 'a1_p': 73.99,\n",
       " 'a2_p': 74.0,\n",
       " 'a3_p': 74.01,\n",
       " 'a4_p': 74.02,\n",
       " 'a5_p': 74.03,\n",
       " 'bid': 73.98,\n",
       " 'b2_p': 73.97,\n",
       " 'b3_p': 73.96,\n",
       " 'b4_p': 73.95,\n",
       " 'b5_p': 73.94,\n",
       " 'outside_pan': 60851,\n",
       " 'inside_pan': 55222,\n",
       " 'fund_code_y': 518880,\n",
       " 'fluctuation_1min': -0.004,\n",
       " 'average_1min': 73.978,\n",
       " 'variance_1min': 1.6e-05,\n",
       " 'average_2min': 73.98333333,\n",
       " 'variance_2min': 0.000111111,\n",
       " 'fluctuation_2min': -0.021333333,\n",
       " 'average_4min': 73.98333333,\n",
       " 'variance_4min': 0.000111111,\n",
       " 'fluctuation_4min': -0.021333333,\n",
       " 'average_8min': 73.98333333,\n",
       " 'variance_8min': 0.000111111,\n",
       " 'fluctuation_8min': -0.021333333,\n",
       " 'average_16min': 73.98333333,\n",
       " 'variance_16min': 0.000111111,\n",
       " 'fluctuation_16min': -0.021333333,\n",
       " 'average_32min': 73.98333333,\n",
       " 'variance_32min': 0.000111111,\n",
       " 'fluctuation_32min': -0.021333333,\n",
       " 'insidePan_1min': 12483,\n",
       " 'insidePan_2min': 49206,\n",
       " 'insidePan_4min': 50684,\n",
       " 'insidePan_8min': 50684,\n",
       " 'insidePan_16min': 50684,\n",
       " 'insidePan_32min': 50684,\n",
       " 'outsidePan_1min': 10495,\n",
       " 'outsidePan_2min': 33760,\n",
       " 'outsidePan_4min': 39378,\n",
       " 'outsidePan_8min': 39378,\n",
       " 'outsidePan_16min': 39378,\n",
       " 'outsidePan_32min': 39378}"
      ]
     },
     "execution_count": 30,
     "metadata": {},
     "output_type": "execute_result"
    }
   ],
   "source": [
    "df[38]"
   ]
  },
  {
   "cell_type": "code",
   "execution_count": 20,
   "metadata": {},
   "outputs": [
    {
     "data": {
      "text/plain": [
       "0"
      ]
     },
     "execution_count": 20,
     "metadata": {},
     "output_type": "execute_result"
    }
   ],
   "source": [
    "60%60"
   ]
  },
  {
   "cell_type": "code",
   "execution_count": null,
   "metadata": {},
   "outputs": [],
   "source": []
  }
 ],
 "metadata": {
  "kernelspec": {
   "display_name": "akshare",
   "language": "python",
   "name": "python3"
  },
  "language_info": {
   "codemirror_mode": {
    "name": "ipython",
    "version": 3
   },
   "file_extension": ".py",
   "mimetype": "text/x-python",
   "name": "python",
   "nbconvert_exporter": "python",
   "pygments_lexer": "ipython3",
   "version": "3.12.0"
  }
 },
 "nbformat": 4,
 "nbformat_minor": 2
}
