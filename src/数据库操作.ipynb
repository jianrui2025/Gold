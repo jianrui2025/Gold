{
 "cells": [
  {
   "cell_type": "code",
   "execution_count": 2,
   "metadata": {},
   "outputs": [],
   "source": [
    "import json\n",
    "import sqlite3\n",
    "import logging\n",
    "import pandas as pd\n",
    "from datetime import datetime\n",
    "logging.basicConfig(format='%(asctime)s %(message)s')\n",
    "log = logging.getLogger(name=\"log\")\n",
    "log.setLevel(level=logging.INFO)"
   ]
  },
  {
   "cell_type": "code",
   "execution_count": 3,
   "metadata": {},
   "outputs": [
    {
     "name": "stderr",
     "output_type": "stream",
     "text": [
      "2025-07-16 10:40:52,717 数据连接成功！\n"
     ]
    }
   ],
   "source": [
    "database_path = \"/home/jianrui/Gold/goldPriceHistory\"\n",
    "def buildConnect():\n",
    "        # 建立数据连接和cursor\n",
    "        connect = sqlite3.connect(database_path,timeout=10)\n",
    "        cursor = connect.cursor()\n",
    "        log.info(\"数据连接成功！\")\n",
    "        return connect,cursor\n",
    "connect,cursor = buildConnect()"
   ]
  },
  {
   "cell_type": "code",
   "execution_count": 16,
   "metadata": {},
   "outputs": [],
   "source": [
    "# 执行操作\n",
    "# sql = \"create table GoldETFPrice (timestamp bigint, fund_code bigint, trade_time VARCHAR(32), open float, high float, low float,price float)\"\n",
    "# sql = \"\"\"insert into GoldETFPrice (fund_code,trade_time,open,high,low,price,timestamp) values ('518880','2025-06-13 16:43:00','7.616','7.653','7.570','7.588','1749804180')\"\"\"\n",
    "# sql = \"\"\"delete from GoldETFPriceFluctuation\"\"\"\n",
    "# sql = \"\"\"alter table GoldETFPriceFluctuation change column \"\"\"\n",
    "sql = \"\"\"delete from GoldETFPriceFluctuation where timestamp > 1752537600\"\"\"\n",
    "# sql = \"\"\"alter table GoldETFPriceFluctuation add column outsidePan_32min bigint\"\"\"\n",
    "# sql = \"\"\"insert into GoldETFPrice (timestamp,trade_time,name,date,time,open,pre_close,price,high,low,bid,ask,volume,amount,b1_v,b1_p,b2_v,b2_p,b3_v,b3_p,b4_v,b4_p,b5_v,b5_p,a1_v,a1_p,a2_v,a2_p,a3_v,a3_p,a4_v,a4_p,a5_v,a5_p,outside_pan,inside_pan,fund_code) values ('1751443896','2025-07-02 16:11:36','黄金ETF','20250702',' 16:11:36','73.84','73.97','73.94','74.18','73.95','73.93','73.94','2916548','2157429707.0','159','73.93','1310','73.92','1873','73.91','7610','73.9','1986','73.89','774','73.94','2164','73.95','1580','73.96','6912','73.97','5187','73.98','1488252','1428296','518880')\"\"\"\n",
    "# sql = \"\"\"alter table GoldETFPrice drop column outsidePan_32min\"\"\"\n",
    "# sql = \"\"\"alter table GoldETFPriceFluctuation add column insidePan_15sec bigint\"\"\"\n",
    "cursor.execute(sql)\n",
    "connect.commit()\n"
   ]
  },
  {
   "cell_type": "code",
   "execution_count": null,
   "metadata": {},
   "outputs": [],
   "source": [
    "sqls = [\n",
    "    \"alter table GoldETFPriceFluctuation Rename column fluctuation_5min to fluctuation_32min\",\n",
    "    \"alter table GoldETFPriceFluctuation Rename column average_5min to average_32min\",\n",
    "    \"alter table GoldETFPriceFluctuation Rename column variance_5min to variance_32min\"\n",
    "    ]\n",
    "for sql in sqls:\n",
    "    cursor.execute(sql)\n",
    "    connect.commit()"
   ]
  },
  {
   "cell_type": "code",
   "execution_count": 18,
   "metadata": {},
   "outputs": [],
   "source": [
    "# 查询操作\n",
    "def executeSearchSql(sql):\n",
    "    # sql执行\n",
    "    cursor.execute(sql)\n",
    "    headers = [header[0] for header in cursor.description]\n",
    "    rows = []\n",
    "    for oneline in cursor.fetchall():\n",
    "        tmp = {}\n",
    "        for k,v in zip(headers,oneline):\n",
    "            tmp[k] = v\n",
    "        rows.append(tmp)\n",
    "    return rows\n",
    "# sql = \"select * from GoldETFPriceFluctuation where timestamp > 1752537600 and  timestamp < 1752566400 and fund_code=518880\"\n",
    "# sql = \"\"\"select * from GoldETFPriceFluctuation where timestamp > 1751477547 and fund_code=518880\"\"\"\n",
    "sql = \"\"\"select * from GoldETFPrice where fund_code=518880 and timestamp<=1752636182 and timestamp>=1752636182-30\"\"\"\n",
    "# sql = \"\"\"select * from GoldETFPriceFluctuation where timestamp > 1752624000 and fund_code=518880 and insidePan_15sec<0\"\"\"\n",
    "row = executeSearchSql(sql)"
   ]
  },
  {
   "cell_type": "code",
   "execution_count": 19,
   "metadata": {},
   "outputs": [
    {
     "name": "stdout",
     "output_type": "stream",
     "text": [
      "{'timestamp': 1752636152, 'fund_code': 518880, 'trade_time': '2025-07-16 11:22:32', 'open': 73.94, 'high': 73.95, 'low': 73.78, 'price': 73.89, 'name': '黄金ETF', 'date': '20250716', 'time': ' 11:22:32', 'pre_close': 74.36, 'b1_v': 10457.0, 'b2_v': 18193.0, 'b3_v': 13077.0, 'b4_v': 4910.0, 'b5_v': 3904.0, 'b1_p': 73.89, 'ask': 73.9, 'volume': 1485186, 'amount': 1097033082.0, 'a1_v': 11466.0, 'a2_v': 14926.0, 'a3_v': 5989.0, 'a4_v': 5896.0, 'a5_v': 1995.0, 'a1_p': 73.9, 'a2_p': 73.91, 'a3_p': 73.92, 'a4_p': 73.93, 'a5_p': 73.94, 'bid': 73.89, 'b2_p': 73.88, 'b3_p': 73.87, 'b4_p': 73.86, 'b5_p': 73.85, 'outside_pan': 712029, 'inside_pan': 773157}\n",
      "{'timestamp': 1752636167, 'fund_code': 518880, 'trade_time': '2025-07-16 11:22:47', 'open': 73.94, 'high': 73.95, 'low': 73.78, 'price': 73.9, 'name': '黄金ETF', 'date': '20250716', 'time': ' 11:22:47', 'pre_close': 74.36, 'b1_v': 13944.0, 'b2_v': 17624.0, 'b3_v': 11582.0, 'b4_v': 4824.0, 'b5_v': 2904.0, 'b1_p': 73.89, 'ask': 73.9, 'volume': 1488336, 'amount': 1099360928.0, 'a1_v': 3809.0, 'a2_v': 15088.0, 'a3_v': 8380.0, 'a4_v': 7656.0, 'a5_v': 1995.0, 'a1_p': 73.9, 'a2_p': 73.91, 'a3_p': 73.92, 'a4_p': 73.93, 'a5_p': 73.94, 'bid': 73.89, 'b2_p': 73.88, 'b3_p': 73.87, 'b4_p': 73.86, 'b5_p': 73.85, 'outside_pan': 712092, 'inside_pan': 776244}\n",
      "{'timestamp': 1752636182, 'fund_code': 518880, 'trade_time': '2025-07-16 11:23:02', 'open': 73.94, 'high': 73.95, 'low': 73.78, 'price': 73.91, 'name': '黄金ETF', 'date': '20250716', 'time': ' 11:23:02', 'pre_close': 74.36, 'b1_v': 8797.0, 'b2_v': 14608.0, 'b3_v': 16646.0, 'b4_v': 3864.0, 'b5_v': 5630.0, 'b1_p': 73.9, 'ask': 73.91, 'volume': 1493857, 'amount': 1103441059.0, 'a1_v': 5790.0, 'a2_v': 14635.0, 'a3_v': 6694.0, 'a4_v': 4281.0, 'a5_v': 3278.0, 'a1_p': 73.91, 'a2_p': 73.92, 'a3_p': 73.93, 'a4_p': 73.94, 'a5_p': 73.95, 'bid': 73.9, 'b2_p': 73.89, 'b3_p': 73.88, 'b4_p': 73.87, 'b5_p': 73.86, 'outside_pan': 720144, 'inside_pan': 773713}\n"
     ]
    }
   ],
   "source": [
    "for i in row:\n",
    "    print(i)"
   ]
  },
  {
   "cell_type": "code",
   "execution_count": 13,
   "metadata": {},
   "outputs": [
    {
     "name": "stdout",
     "output_type": "stream",
     "text": [
      "{'timestamp': 1752636152, 'fund_code': 518880, 'trade_time': '2025-07-16 11:22:32', 'open': 73.94, 'high': 73.95, 'low': 73.78, 'price': 73.89, 'name': '黄金ETF', 'date': '20250716', 'time': ' 11:22:32', 'pre_close': 74.36, 'b1_v': 10457.0, 'b2_v': 18193.0, 'b3_v': 13077.0, 'b4_v': 4910.0, 'b5_v': 3904.0, 'b1_p': 73.89, 'ask': 73.9, 'volume': 1485186, 'amount': 1097033082.0, 'a1_v': 11466.0, 'a2_v': 14926.0, 'a3_v': 5989.0, 'a4_v': 5896.0, 'a5_v': 1995.0, 'a1_p': 73.9, 'a2_p': 73.91, 'a3_p': 73.92, 'a4_p': 73.93, 'a5_p': 73.94, 'bid': 73.89, 'b2_p': 73.88, 'b3_p': 73.87, 'b4_p': 73.86, 'b5_p': 73.85, 'outside_pan': 712029, 'inside_pan': 773157}\n"
     ]
    }
   ],
   "source": [
    "for i in row:\n",
    "    print(i)"
   ]
  },
  {
   "cell_type": "code",
   "execution_count": 20,
   "metadata": {},
   "outputs": [
    {
     "data": {
      "text/plain": [
       "1493857"
      ]
     },
     "execution_count": 20,
     "metadata": {},
     "output_type": "execute_result"
    }
   ],
   "source": [
    "773713+720144"
   ]
  },
  {
   "cell_type": "code",
   "execution_count": 21,
   "metadata": {},
   "outputs": [
    {
     "data": {
      "text/plain": [
       "1488336"
      ]
     },
     "execution_count": 21,
     "metadata": {},
     "output_type": "execute_result"
    }
   ],
   "source": [
    "776244+712092"
   ]
  },
  {
   "cell_type": "code",
   "execution_count": 16,
   "metadata": {},
   "outputs": [
    {
     "name": "stdout",
     "output_type": "stream",
     "text": [
      "insert into GoldETFPrice (fund_code,trade_time,open,high,low,price,timestamp) \n",
      "            values ('518880','2025-06-13 16:43:00','7.616','7.653','7.570','7.588','1749901077'),('518880','2025-06-13 16:43:00','7.616','7.653','7.570','7.588','1749901097'),('518880','2025-06-13 16:43:00','7.616','7.653','7.570','7.588','1749901117'),('518880','2025-06-13 16:43:00','7.616','7.653','7.570','7.588','1749901137'),('518880','2025-06-13 16:43:00','7.616','7.653','7.570','7.588','1749901157'),('518880','2025-06-13 16:43:00','7.616','7.653','7.570','7.588','1749901177'),('518880','2025-06-13 16:43:00','7.616','7.653','7.570','7.588','1749901197'),('518880','2025-06-13 16:43:00','7.616','7.653','7.570','7.588','1749901217'),('518880','2025-06-13 16:43:00','7.616','7.653','7.570','7.588','1749901237'),('518880','2025-06-13 16:43:00','7.616','7.653','7.570','7.588','1749901257'),('518880','2025-06-13 16:43:00','7.616','7.653','7.570','7.588','1749901277'),('518880','2025-06-13 16:43:00','7.616','7.653','7.570','7.588','1749901297'),('518880','2025-06-13 16:43:00','7.616','7.653','7.570','7.588','1749901317'),('518880','2025-06-13 16:43:00','7.616','7.653','7.570','7.588','1749901337'),('518880','2025-06-13 16:43:00','7.616','7.653','7.570','7.588','1749901357'),('518880','2025-06-13 16:43:00','7.616','7.653','7.570','7.588','1749901377'),('518880','2025-06-13 16:43:00','7.616','7.653','7.570','7.588','1749901397'),('518880','2025-06-13 16:43:00','7.616','7.653','7.570','7.588','1749901417'),('518880','2025-06-13 16:43:00','7.616','7.653','7.570','7.588','1749901437'),('518880','2025-06-13 16:43:00','7.616','7.653','7.570','7.588','1749901457'),('518880','2025-06-13 16:43:00','7.616','7.653','7.570','7.588','1749901477'),('518880','2025-06-13 16:43:00','7.616','7.653','7.570','7.588','1749901497'),('518880','2025-06-13 16:43:00','7.616','7.653','7.570','7.588','1749901517'),('518880','2025-06-13 16:43:00','7.616','7.653','7.570','7.588','1749901537'),('518880','2025-06-13 16:43:00','7.616','7.653','7.570','7.588','1749901557'),('518880','2025-06-13 16:43:00','7.616','7.653','7.570','7.588','1749901577'),('518880','2025-06-13 16:43:00','7.616','7.653','7.570','7.588','1749901597'),('518880','2025-06-13 16:43:00','7.616','7.653','7.570','7.588','1749901617'),('518880','2025-06-13 16:43:00','7.616','7.653','7.570','7.588','1749901637'),('518880','2025-06-13 16:43:00','7.616','7.653','7.570','7.588','1749901657'),('518880','2025-06-13 16:43:00','7.616','7.653','7.570','7.588','1749901677'),('518880','2025-06-13 16:43:00','7.616','7.653','7.570','7.588','1749901697'),('518880','2025-06-13 16:43:00','7.616','7.653','7.570','7.588','1749901717'),('518880','2025-06-13 16:43:00','7.616','7.653','7.570','7.588','1749901737'),('518880','2025-06-13 16:43:00','7.616','7.653','7.570','7.588','1749901757'),('518880','2025-06-13 16:43:00','7.616','7.653','7.570','7.588','1749901777'),('518880','2025-06-13 16:43:00','7.616','7.653','7.570','7.588','1749901797'),('518880','2025-06-13 16:43:00','7.616','7.653','7.570','7.588','1749901817'),('518880','2025-06-13 16:43:00','7.616','7.653','7.570','7.588','1749901837'),('518880','2025-06-13 16:43:00','7.616','7.653','7.570','7.588','1749901857'),('518880','2025-06-13 16:43:00','7.616','7.653','7.570','7.588','1749901877'),('518880','2025-06-13 16:43:00','7.616','7.653','7.570','7.588','1749901897'),('518880','2025-06-13 16:43:00','7.616','7.653','7.570','7.588','1749901917'),('518880','2025-06-13 16:43:00','7.616','7.653','7.570','7.588','1749901937'),('518880','2025-06-13 16:43:00','7.616','7.653','7.570','7.588','1749901957'),('518880','2025-06-13 16:43:00','7.616','7.653','7.570','7.588','1749901977'),('518880','2025-06-13 16:43:00','7.616','7.653','7.570','7.588','1749901997'),('518880','2025-06-13 16:43:00','7.616','7.653','7.570','7.588','1749902017'),('518880','2025-06-13 16:43:00','7.616','7.653','7.570','7.588','1749902037'),('518880','2025-06-13 16:43:00','7.616','7.653','7.570','7.588','1749902057')\n"
     ]
    }
   ],
   "source": [
    "# 执行操作\n",
    "from datetime import datetime\n",
    "timestamp = int(datetime.now().timestamp())\n",
    "tmp_mode = \"('518880','2025-06-13 16:43:00','7.616','7.653','7.570','{}','{}')\"\n",
    "re = []\n",
    "for i in range(50):\n",
    "    re.append(tmp_mode.format(\"7.588\",str(timestamp+20*i)))\n",
    "sql = \"\"\"insert into GoldETFPrice (fund_code,trade_time,open,high,low,price,timestamp) \n",
    "            values {}\"\"\".format(\",\".join(re))\n",
    "print(sql)\n",
    "cursor.execute(sql)\n",
    "connect.commit()"
   ]
  },
  {
   "cell_type": "code",
   "execution_count": 6,
   "metadata": {},
   "outputs": [
    {
     "data": {
      "text/plain": [
       "1751987999.0"
      ]
     },
     "execution_count": 6,
     "metadata": {},
     "output_type": "execute_result"
    }
   ],
   "source": [
    "datetime.strptime('2025-07-08 23:19:59', '%Y-%m-%d %H:%M:%S').timestamp()"
   ]
  },
  {
   "cell_type": "code",
   "execution_count": 4,
   "metadata": {},
   "outputs": [],
   "source": [
    "sql = \"\"\"select * from GoldETFPrice where timestamp > 1751908799 and  timestamp < 1751987999 and fund_code=518880\"\"\"\n",
    "row = executeSearchSql(sql)"
   ]
  },
  {
   "cell_type": "code",
   "execution_count": 5,
   "metadata": {},
   "outputs": [],
   "source": [
    "sql = \"\"\"select * from GoldETFPriceFluctuation where timestamp > 1751908799 and  timestamp < 1751987999 and fund_code=518880\"\"\"\n",
    "row1 = executeSearchSql(sql)"
   ]
  },
  {
   "cell_type": "code",
   "execution_count": 6,
   "metadata": {},
   "outputs": [],
   "source": [
    "df_row = pd.DataFrame(row)\n",
    "df_row1 = pd.DataFrame(row1)\n",
    "df = pd.merge(df_row,df_row1,on=\"timestamp\")"
   ]
  },
  {
   "cell_type": "code",
   "execution_count": 8,
   "metadata": {},
   "outputs": [],
   "source": [
    "df.to_excel(\"/home/jianrui/Gold/excel/20250708数据.xlsx\")"
   ]
  },
  {
   "cell_type": "code",
   "execution_count": 43,
   "metadata": {},
   "outputs": [
    {
     "data": {
      "text/plain": [
       "\"insert into AAA (id) values ('1'),('2')\""
      ]
     },
     "execution_count": 43,
     "metadata": {},
     "output_type": "execute_result"
    }
   ],
   "source": [
    "def insertSql_norm(table_name,onelines):\n",
    "    # 一般形式的写入sql\n",
    "    key = \",\".join(list(onelines[0].keys()))\n",
    "    values = [\"(\"+\",\".join([\"'\"+str(oneline[k])+\"'\" for k in oneline.keys()])+\")\" for oneline in onelines]\n",
    "    values = \",\".join(values)\n",
    "    sql = \"\"\"insert into {table_name} ({key}) values {values}\"\"\".format(\n",
    "                table_name = table_name, key = key, values = values )\n",
    "    return sql\n",
    "\n",
    "insertSql_norm(\"AAA\",[{\"id\":\"1\"},{\"id\":\"2\"}])"
   ]
  },
  {
   "cell_type": "code",
   "execution_count": 45,
   "metadata": {},
   "outputs": [],
   "source": [
    "import adata\n",
    "from datetime import datetime\n",
    "start = datetime.now()\n",
    "result = []\n",
    "for id  in [\"518880\",\"159934\",\"159937\",\"518800\",\"518660\"]:\n",
    "    df = adata.fund.market.get_market_etf_current(fund_code=id)\n",
    "    df  = df.to_dict(orient=\"records\")[0]\n",
    "    keep_value = [\"fund_code\",\"trade_time\",\"open\",\"high\",\"low\",\"price\"]\n",
    "    for key in list(df.keys()):\n",
    "        if key not in keep_value:\n",
    "            df.pop(key)\n",
    "    df[\"timestamp\"] = int(datetime.strptime(df[\"trade_time\"], '%Y-%m-%d %H:%M:%S').timestamp())\n",
    "    result.append(df)\n",
    "sql = insertSql_norm(\"GoldETFPrice\",result)"
   ]
  },
  {
   "cell_type": "code",
   "execution_count": 5,
   "metadata": {},
   "outputs": [
    {
     "name": "stdout",
     "output_type": "stream",
     "text": [
      "7.392\n",
      "6.601612599703893e-07\n"
     ]
    },
    {
     "ename": "",
     "evalue": "",
     "output_type": "error",
     "traceback": [
      "\u001b[1;31mThe Kernel crashed while executing code in the the current cell or a previous cell. Please review the code in the cell(s) to identify a possible cause of the failure. Click <a href='https://aka.ms/vscodeJupyterKernelCrash'>here</a> for more info. View Jupyter <a href='command:jupyter.viewOutput'>log</a> for further details."
     ]
    }
   ],
   "source": [
    "import math\n",
    "from scipy.stats import norm\n",
    "\n",
    "def calculate_normal_cdf(x, mean=0, std_dev=1):\n",
    "    \"\"\"\n",
    "    计算正态分布的累积分布函数值\n",
    "    参数:\n",
    "        x: 要计算的值\n",
    "        mean: 均值(默认0)\n",
    "        std_dev: 标准差(默认1)\n",
    "    返回:\n",
    "        累积分布概率值\n",
    "    \"\"\"\n",
    "    # 使用scipy的norm.cdf函数计算\n",
    "    return norm.cdf(x, loc=mean, scale=std_dev)\n",
    "\n",
    "# 示例用法\n",
    "if __name__ == \"__main__\":\n",
    "    mean = 7.442242152466367   # 均值\n",
    "    std_dev = 0.010387756627086048  # 标准差\n",
    "    x = 7.392    # 要计算的值\n",
    "    \n",
    "    cdf_value = calculate_normal_cdf(x, mean, std_dev)\n",
    "    print(x)\n",
    "    print(cdf_value)"
   ]
  },
  {
   "cell_type": "code",
   "execution_count": 16,
   "metadata": {},
   "outputs": [],
   "source": []
  },
  {
   "cell_type": "code",
   "execution_count": 17,
   "metadata": {},
   "outputs": [],
   "source": []
  },
  {
   "cell_type": "code",
   "execution_count": null,
   "metadata": {},
   "outputs": [],
   "source": []
  },
  {
   "cell_type": "code",
   "execution_count": null,
   "metadata": {},
   "outputs": [],
   "source": []
  }
 ],
 "metadata": {
  "kernelspec": {
   "display_name": "akshare",
   "language": "python",
   "name": "python3"
  },
  "language_info": {
   "codemirror_mode": {
    "name": "ipython",
    "version": 3
   },
   "file_extension": ".py",
   "mimetype": "text/x-python",
   "name": "python",
   "nbconvert_exporter": "python",
   "pygments_lexer": "ipython3",
   "version": "3.12.0"
  }
 },
 "nbformat": 4,
 "nbformat_minor": 2
}
